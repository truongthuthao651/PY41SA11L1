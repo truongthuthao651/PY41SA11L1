{
 "cells": [
  {
   "cell_type": "code",
   "execution_count": null,
   "id": "e86b9da0",
   "metadata": {
    "scrolled": true
   },
   "outputs": [],
   "source": [
    "print(\"Hello word\")"
   ]
  },
   "id": "a5949cb9",
   "source": []
  {
   "cell_type": "code",
   "execution_count": null,
   "id": "ea22d107",
   "metadata": {},
   "outputs": [],
   "source": [
    "print(\"Hi, my name is Spring\")"
   ]
  },
  {
   "cell_type": "code",
   "execution_count": null,
   "id": "ed6cc920",
   "metadata": {},
   "outputs": [],
   "source": [
    "print(\"Nice to meet you!\")"
   ]
  },
  {
   "cell_type": "code",
   "execution_count": null,
   "id": "deac363e",
   "metadata": {},
   "outputs": [],
   "source": []
  },
  {
   "cell_type": "code",
   "execution_count": null,
   "id": "f19a3159",
   "metadata": {},
   "outputs": [],
   "source": []
  },
  {
   "cell_type": "code",
   "execution_count": null,
   "id": "b9caa0b5",
   "metadata": {},
   "outputs": [],
   "source": []
  },
  {
   "cell_type": "code",
   "execution_count": null,
   "id": "bd7b4f65",
   "metadata": {},
   "outputs": [],
   "source": []
  }
 ],
 "metadata": {
  "kernelspec": {
   "display_name": "Python 3",
   "language": "python",
   "name": "python3"
  },
  "language_info": {
   "codemirror_mode": {
    "name": "ipython",
    "version": 3
   },
   "file_extension": ".py",
   "mimetype": "text/x-python",
   "name": "python",
   "nbconvert_exporter": "python",
   "pygments_lexer": "ipython3",
   "version": "3.8.8"
  }
 },
 "nbformat": 4,
 "nbformat_minor": 5
}
